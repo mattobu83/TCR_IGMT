{
 "cells": [
  {
   "cell_type": "code",
   "execution_count": 1,
   "metadata": {},
   "outputs": [],
   "source": [
    "library(readxl)\n",
    "library(plyr)"
   ]
  },
  {
   "cell_type": "code",
   "execution_count": 2,
   "metadata": {},
   "outputs": [],
   "source": [
    "#load in the Excel file from IMGT\n",
    "imgt <- read_excel(\"vquest.xls\",sheet = 1)"
   ]
  },
  {
   "cell_type": "code",
   "execution_count": 3,
   "metadata": {},
   "outputs": [],
   "source": [
    "#split into a Chain and b chain\n",
    "achain <- imgt[grep(\"JMWA\",imgt$`Sequence ID`),]\n",
    "bchain <- imgt[grep(\"JMWB\",imgt$`Sequence ID`),]"
   ]
  },
  {
   "cell_type": "code",
   "execution_count": 4,
   "metadata": {
    "scrolled": true
   },
   "outputs": [],
   "source": [
    "#get only these columns from the excel file\n",
    "interestA <- c(\"Sequence ID\",\"V-GENE and allele\",\"J-GENE and allele\",\"AA JUNCTION\")\n",
    "interestB <- c(\"Sequence ID\",\"V-GENE and allele\",\"J-GENE and allele\",\"D-GENE and allele\",\"AA JUNCTION\")"
   ]
  },
  {
   "cell_type": "code",
   "execution_count": 5,
   "metadata": {
    "scrolled": true
   },
   "outputs": [],
   "source": [
    "#make a dataframe from columns of interest\n",
    "dfa<- data.frame(achain[,interestA])\n",
    "dfb<- data.frame(bchain[,interestB])"
   ]
  },
  {
   "cell_type": "code",
   "execution_count": 6,
   "metadata": {
    "scrolled": true
   },
   "outputs": [],
   "source": [
    "#Get the well number\n",
    "dfa$number <- sapply(strsplit(dfa[,1],\"-\"), \"[\", 3)\n",
    "dfb$number <- sapply(strsplit(dfb[,1],\"-\"), \"[\", 3)"
   ]
  },
  {
   "cell_type": "code",
   "execution_count": 7,
   "metadata": {},
   "outputs": [],
   "source": [
    "#order by well number for pairing\n",
    "dfa <- dfa[order(as.numeric(gsub(\"([0-9]+)([A-Z]+)\", \"\\\\1\", dfa$number)),gsub(\"([0-9]+)([A-Z]+)\", \"\\\\2\", dfa$number)),]\n",
    "dfb <- dfb[order(as.numeric(gsub(\"([0-9]+)([A-Z]+)\", \"\\\\1\", dfb$number)),gsub(\"([0-9]+)([A-Z]+)\", \"\\\\2\", dfb$number)),]"
   ]
  },
  {
   "cell_type": "code",
   "execution_count": 8,
   "metadata": {},
   "outputs": [],
   "source": [
    "#give order for later sorting \n",
    "dfa$order <- 1:nrow(dfa)\n",
    "dfb$order <- 1:nrow(dfb)"
   ]
  },
  {
   "cell_type": "code",
   "execution_count": 9,
   "metadata": {},
   "outputs": [],
   "source": [
    "library(stringr)"
   ]
  },
  {
   "cell_type": "code",
   "execution_count": 10,
   "metadata": {},
   "outputs": [],
   "source": [
    "#retrieve only the chain form\n",
    "clean <- function(region){\n",
    "    t1 <- gsub(\"\\\\s*\\\\([^\\\\)]+\\\\)\",\"\",as.character(region))\n",
    "    t2 <- str_replace(t1, \"F\", \"\")\n",
    "    t3 <- gsub(\"Homsap\", \"\",t2)\n",
    "    t4 <- gsub(\" |, \", \"\",t3)\n",
    "    return(t4)\n",
    "}"
   ]
  },
  {
   "cell_type": "code",
   "execution_count": 11,
   "metadata": {},
   "outputs": [],
   "source": [
    "#Get only the amino acids(remove any notes/comments)\n",
    "cleanAA <- function(region){\n",
    "    t1 <- gsub(\"\\\\s*\\\\([^\\\\)]+\\\\)\",\"\",as.character(region))\n",
    "    t6 <- gsub(\" |, \", \"\",t1)\n",
    "    return(t6)\n",
    "}"
   ]
  },
  {
   "cell_type": "code",
   "execution_count": 12,
   "metadata": {},
   "outputs": [],
   "source": [
    "#get coordinates for matching\n",
    "dfa$genes <- paste(clean(dfa$V.GENE.and.allele),clean(dfa$J.GENE.and.allele),cleanAA(dfa$AA.JUNCTION), sep = \":\")\n",
    "dfb$genes <- paste(clean(dfb$V.GENE.and.allele),clean(dfb$J.GENE.and.allele),clean(dfb$D.GENE.and.allele),cleanAA(dfb$AA.JUNCTION), sep = \":\")"
   ]
  },
  {
   "cell_type": "code",
   "execution_count": 13,
   "metadata": {},
   "outputs": [],
   "source": [
    "#get the frequency of each of the genes \n",
    "freqa <- count(dfa$genes)\n",
    "freqb <- count(dfb$genes)"
   ]
  },
  {
   "cell_type": "code",
   "execution_count": 14,
   "metadata": {},
   "outputs": [],
   "source": [
    "freqa$group <- 1:nrow(freqa)\n",
    "freqb$group <- 1:nrow(freqb)"
   ]
  },
  {
   "cell_type": "code",
   "execution_count": 15,
   "metadata": {},
   "outputs": [],
   "source": [
    "dfa <- merge(dfa,freqa,by.x='genes', by.y=1)\n",
    "dfb <- merge(dfb,freqb,by.x='genes', by.y=1)"
   ]
  },
  {
   "cell_type": "code",
   "execution_count": 17,
   "metadata": {},
   "outputs": [],
   "source": [
    "groupings <- function(df){\n",
    "    grouped <- list()\n",
    "    number <- df$number \n",
    "    names(number) <- df$group\n",
    "    for(i in 1:length(unique(df$group))){\n",
    "        grouped[[i]]<- paste(number[names(number) == i], collapse=\",\")\n",
    "    }\n",
    "    df <- data.frame(row.names  = 1:length(unique(df$group)) ,unlist(grouped))\n",
    "    return(df)\n",
    "}"
   ]
  },
  {
   "cell_type": "code",
   "execution_count": 18,
   "metadata": {},
   "outputs": [],
   "source": [
    "pair_groupings <- function(df){\n",
    "    grouped <- list()\n",
    "    numbera <- df$number.x\n",
    "    names(numbera) <- df$group\n",
    "    numberb <- df$number.y \n",
    "    names(numberb) <- df$group\n",
    "    for(i in 1:length(unique(df$group))){\n",
    "        grouped[[i]]<- paste(paste(numbera[names(numbera) == i], collapse=\",\"),paste(numberb[names(numberb) == i], collapse=\",\"),collapse = \",\")\n",
    "    }\n",
    "    df <- data.frame(row.names  = 1:length(unique(df$group)) ,unlist(grouped))\n",
    "    return(df)\n",
    "}"
   ]
  },
  {
   "cell_type": "code",
   "execution_count": 19,
   "metadata": {},
   "outputs": [],
   "source": [
    "groupinga <- groupings(dfa)\n",
    "groupingb <- groupings(dfb)"
   ]
  },
  {
   "cell_type": "code",
   "execution_count": 20,
   "metadata": {},
   "outputs": [],
   "source": [
    "dfa <- merge(dfa,groupinga,by.x='group', by.y=0)\n",
    "dfb <- merge(dfb,groupingb,by.x='group', by.y=0)"
   ]
  },
  {
   "cell_type": "code",
   "execution_count": 21,
   "metadata": {},
   "outputs": [],
   "source": [
    "merged <- merge(dfa,dfb, by =\"order\",all = T)"
   ]
  },
  {
   "cell_type": "code",
   "execution_count": 23,
   "metadata": {},
   "outputs": [],
   "source": [
    "merged$pair <- paste(merged$genes.x,merged$genes.y, sep = \":\")"
   ]
  },
  {
   "cell_type": "code",
   "execution_count": 24,
   "metadata": {},
   "outputs": [],
   "source": [
    "freqab <- count(merged$pair)"
   ]
  },
  {
   "cell_type": "code",
   "execution_count": 25,
   "metadata": {},
   "outputs": [],
   "source": [
    "freqab$group <- 1:nrow(freqab)"
   ]
  },
  {
   "cell_type": "code",
   "execution_count": 26,
   "metadata": {},
   "outputs": [],
   "source": [
    "merged <- merge(merged,freqab,by.x='pair', by.y=1)"
   ]
  },
  {
   "cell_type": "code",
   "execution_count": 27,
   "metadata": {},
   "outputs": [],
   "source": [
    "groupingab <- pair_groupings(merged)"
   ]
  },
  {
   "cell_type": "code",
   "execution_count": 28,
   "metadata": {},
   "outputs": [],
   "source": [
    "merged <- merge(merged,groupingab,by.x='group', by.y=0)"
   ]
  },
  {
   "cell_type": "code",
   "execution_count": 29,
   "metadata": {},
   "outputs": [],
   "source": [
    "final <- merged[!duplicated(merged$group),-(grep(\"genes|order|pair|number|group.x|group.y\",colnames(merged)))]"
   ]
  },
  {
   "cell_type": "code",
   "execution_count": 30,
   "metadata": {},
   "outputs": [],
   "source": [
    "final <- final[order(final$freq,decreasing = T),-1]"
   ]
  },
  {
   "cell_type": "code",
   "execution_count": 31,
   "metadata": {},
   "outputs": [],
   "source": [
    "colnames(final) <- c(\"Sequence_ID_Alpha\", \"Alpha_V\",\"Alpha_J\",\"Alpha_CDR3\",\"Frequency_of_A\",\"Same_A_Wells\",\"Sequence_ID_Beta\", \"Beta_V\",\"Beta_J\",\"Beta_D\",\"Beta_CDR3\",\"Frequency_of_B\",\"Same_B_Wells\",\"Frequency_of_Pair\",\"Same_Pair_Wells\")"
   ]
  },
  {
   "cell_type": "code",
   "execution_count": 32,
   "metadata": {},
   "outputs": [
    {
     "data": {
      "text/html": [
       "<table>\n",
       "<caption>A data.frame: 17 × 15</caption>\n",
       "<thead>\n",
       "\t<tr><th></th><th scope=col>Sequence_ID_Alpha</th><th scope=col>Alpha_V</th><th scope=col>Alpha_J</th><th scope=col>Alpha_CDR3</th><th scope=col>Frequency_of_A</th><th scope=col>Same_A_Wells</th><th scope=col>Sequence_ID_Beta</th><th scope=col>Beta_V</th><th scope=col>Beta_J</th><th scope=col>Beta_D</th><th scope=col>Beta_CDR3</th><th scope=col>Frequency_of_B</th><th scope=col>Same_B_Wells</th><th scope=col>Frequency_of_Pair</th><th scope=col>Same_Pair_Wells</th></tr>\n",
       "\t<tr><th></th><th scope=col>&lt;chr&gt;</th><th scope=col>&lt;chr&gt;</th><th scope=col>&lt;chr&gt;</th><th scope=col>&lt;chr&gt;</th><th scope=col>&lt;int&gt;</th><th scope=col>&lt;fct&gt;</th><th scope=col>&lt;chr&gt;</th><th scope=col>&lt;chr&gt;</th><th scope=col>&lt;chr&gt;</th><th scope=col>&lt;chr&gt;</th><th scope=col>&lt;chr&gt;</th><th scope=col>&lt;int&gt;</th><th scope=col>&lt;fct&gt;</th><th scope=col>&lt;int&gt;</th><th scope=col>&lt;fct&gt;</th></tr>\n",
       "</thead>\n",
       "<tbody>\n",
       "\t<tr><th scope=row>6</th><td>13-05-1E-JMWAC2_E01</td><td>Homsap TRAV12-3*01 F           </td><td>Homsap TRAJ30*01 F</td><td>CAMNGDDKIIF     </td><td> 4</td><td>1E,1F,3D,5G</td><td>13-06-2E-JMWBC2_F01 </td><td>Homsap TRBV7-2*04 (F)                        </td><td>Homsap TRBJ1-2*01 F</td><td>Homsap TRBD1*01 F</td><td>CASSLPDRINYGYTF                                  </td><td>3</td><td>2E,6G,4D</td><td>3</td><td>1E,5G,3D 2E,6G,4D</td></tr>\n",
       "\t<tr><th scope=row>1</th><td>NA                 </td><td>NA                             </td><td>NA                </td><td>NA              </td><td>NA</td><td>NA         </td><td>13-37-12C-JMWBC2_E05</td><td>Homsap TRBV10-3*01 F                         </td><td>Homsap TRBJ2-7*01 F</td><td>Homsap TRBD2*01 F</td><td>CAISEIIAHFPYEQYF                                 </td><td>1</td><td>12C     </td><td>1</td><td>NA 12C           </td></tr>\n",
       "\t<tr><th scope=row>2</th><td>13-27-7E-JMWAC2_C04</td><td>Homsap TRAV1-2*01 F            </td><td>Homsap TRAJ30*01 F</td><td>CAV*#NRDDKIIF   </td><td> 1</td><td>7E         </td><td>13-28-8E-JMWBC2_D04 </td><td>Homsap TRBV7-2*01 F, or Homsap TRBV7-2*04 (F)</td><td>Homsap TRBJ1-2*01 F</td><td>Homsap TRBD1*01 F</td><td>CASSLPDRINYGYTF                                  </td><td>1</td><td>8E      </td><td>1</td><td>7E 8E            </td></tr>\n",
       "\t<tr><th scope=row>3</th><td>13-17-5B-JMWAC2_A03</td><td>Homsap TRAV12-1*01 F           </td><td>Homsap TRAJ4*01 F </td><td>CVVNWFSGGYNKLIF </td><td> 2</td><td>5B,3F      </td><td>13-18-6B-JMWBC2_B03 </td><td>Homsap TRBV11-2*01 F                         </td><td>Homsap TRBJ1-1*01 F</td><td>Homsap TRBD1*01 F</td><td>CASSLPTGGALNTEAFF                                </td><td>2</td><td>6B,8A   </td><td>1</td><td>5B 6B            </td></tr>\n",
       "\t<tr><th scope=row>4</th><td>13-15-3F-JMWAC2_G02</td><td>Homsap TRAV12-1*01 F           </td><td>Homsap TRAJ4*01 F </td><td>CVVNWFSGGYNKLIF </td><td> 2</td><td>5B,3F      </td><td>13-16-4F-JMWBC2_H02 </td><td>Homsap TRBV28*01 F                           </td><td>Homsap TRBJ1-2*01 F</td><td>Homsap TRBD2*01 F</td><td>CASSTTRDWPLDGYTF                                 </td><td>1</td><td>4F      </td><td>1</td><td>3F 4F            </td></tr>\n",
       "\t<tr><th scope=row>5</th><td>13-07-1F-JMWAC2_G01</td><td>Homsap TRAV12-3*01 F           </td><td>Homsap TRAJ30*01 F</td><td>CAMNGDDKIIF     </td><td> 4</td><td>1E,1F,3D,5G</td><td>13-08-2F-JMWBC2_H01 </td><td>Homsap TRBV7-2*01 F, or Homsap TRBV7-2*04 (F)</td><td>Homsap TRBJ1-2*01 F</td><td>Homsap TRBD1*01 F</td><td>CASSLPDRIKYGYTF                                  </td><td>1</td><td>2F      </td><td>1</td><td>1F 2F            </td></tr>\n",
       "\t<tr><th scope=row>9</th><td>13-21-5D-JMWAC2_E03</td><td>Homsap TRAV19*01 F             </td><td>Homsap TRAJ54*01 F</td><td>CALSLIYQGAQKLVF </td><td> 1</td><td>5D         </td><td>13-22-6D-JMWBC2_F03 </td><td>Homsap TRBV5-4*04 (F) (see comment)          </td><td>Homsap TRBJ2-5*01 F</td><td>NA               </td><td>MCQQVR*REALF (see V-DOMAIN Functionality comment)</td><td>1</td><td>6D      </td><td>1</td><td>5D 6D            </td></tr>\n",
       "\t<tr><th scope=row>10</th><td>13-11-3B-JMWAC2_C02</td><td>Homsap TRAV2*01 F              </td><td>Homsap TRAJ26*01 F</td><td>CAVGPNYGQNFVF   </td><td> 1</td><td>3B         </td><td>13-12-4B-JMWBC2_D02 </td><td>Homsap TRBV4-3*01 F                          </td><td>Homsap TRBJ2-3*01 F</td><td>Homsap TRBD1*01 F</td><td>CASSQVPTGGPDTQYF                                 </td><td>1</td><td>4B      </td><td>1</td><td>3B 4B            </td></tr>\n",
       "\t<tr><th scope=row>11</th><td>13-25-7A-JMWAC2_A04</td><td>Homsap TRAV27*01 F             </td><td>Homsap TRAJ20*01 F</td><td>CAGITNDYKLSF    </td><td> 1</td><td>7A         </td><td>13-26-8A-JMWBC2_B04 </td><td>Homsap TRBV11-2*01 F                         </td><td>Homsap TRBJ1-1*01 F</td><td>Homsap TRBD1*01 F</td><td>CASSLPTGGALNTEAFF                                </td><td>2</td><td>6B,8A   </td><td>1</td><td>7A 8A            </td></tr>\n",
       "\t<tr><th scope=row>12</th><td>13-33-9B-JMWAC2_A05</td><td>Homsap TRAV27*01 F             </td><td>Homsap TRAJ33*01 F</td><td>CAGSLDSNYQLIW   </td><td> 1</td><td>9B         </td><td>13-34-10B-JMWBC2_B05</td><td>NA                                           </td><td>NA                 </td><td>NA               </td><td>NA                                               </td><td>1</td><td>10B     </td><td>1</td><td>9B 10B           </td></tr>\n",
       "\t<tr><th scope=row>13</th><td>13-35-9F-JMWAC2_C05</td><td>Homsap TRAV27*01 F             </td><td>Homsap TRAJ38*01 F</td><td>CAGP#NAGNNRKLIW </td><td> 1</td><td>9F         </td><td>13-36-10F-JMWBC2_D05</td><td>Homsap TRBV4-3*01 F                          </td><td>Homsap TRBJ1-2*01 F</td><td>Homsap TRBD1*01 F</td><td>CASSEGLAWTGSGYTF                                 </td><td>1</td><td>10F     </td><td>1</td><td>9F 10F           </td></tr>\n",
       "\t<tr><th scope=row>14</th><td>13-03-1D-JMWAC2_C01</td><td>Homsap TRAV4*01 F              </td><td>Homsap TRAJ11*01 F</td><td>CLVGDEGYSTLTF   </td><td> 2</td><td>1A,1D      </td><td>13-04-2D-JMWBC2_D01 </td><td>Homsap TRBV7-3*01 F                          </td><td>Homsap TRBJ1-1*01 F</td><td>Homsap TRBD1*01 F</td><td>CASSLTGQAFSTEAFF                                 </td><td>1</td><td>2D      </td><td>1</td><td>1D 2D            </td></tr>\n",
       "\t<tr><th scope=row>15</th><td>13-01-1A-JMWAC2_A01</td><td>Homsap TRAV4*01 F              </td><td>Homsap TRAJ11*01 F</td><td>CLVGDEGYSTLTF   </td><td> 2</td><td>1A,1D      </td><td>13-02-2A-JMWBC2_B01 </td><td>Homsap TRBV7-6*01 F (see comment)            </td><td>Homsap TRBJ2-3*01 F</td><td>Homsap TRBD1*01 F</td><td>CASSLAGTDTQYF                                    </td><td>2</td><td>2A,6C   </td><td>1</td><td>1A 2A            </td></tr>\n",
       "\t<tr><th scope=row>16</th><td>13-31-7G-JMWAC2_G04</td><td>Homsap TRAV4*01 F (see comment)</td><td>Homsap TRAJ21*01 F</td><td>CXPGEDTNFNKFFF  </td><td> 1</td><td>7G         </td><td>13-32-8G-JMWBC2_H04 </td><td>Homsap TRBV2*01 F                            </td><td>Homsap TRBJ2-5*01 F</td><td>Homsap TRBD1*01 F</td><td>CASRQGETQYF                                      </td><td>1</td><td>8G      </td><td>1</td><td>7G 8G            </td></tr>\n",
       "\t<tr><th scope=row>17</th><td>13-19-5C-JMWAC2_C03</td><td>Homsap TRAV41*01 F             </td><td>Homsap TRAJ35*01 F</td><td>CAVRPV#GNVLHC   </td><td> 1</td><td>5C         </td><td>13-20-6C-JMWBC2_D03 </td><td>Homsap TRBV7-6*01 F (see comment)            </td><td>Homsap TRBJ2-3*01 F</td><td>Homsap TRBD1*01 F</td><td>CASSLAGTDTQYF                                    </td><td>2</td><td>2A,6C   </td><td>1</td><td>5C 6C            </td></tr>\n",
       "\t<tr><th scope=row>18</th><td>13-09-1H-JMWAC2_A02</td><td>Homsap TRAV41*01 F             </td><td>Homsap TRAJ40*01 F</td><td>CAVVTSGTYKYIF   </td><td> 1</td><td>1H         </td><td>13-10-2H-JMWBC2_B02 </td><td>Homsap TRBV12-3*01 F                         </td><td>Homsap TRBJ2-1*01 F</td><td>Homsap TRBD2*01 F</td><td>CASSLGGLTYNEQFF                                  </td><td>1</td><td>2H      </td><td>1</td><td>1H 2H            </td></tr>\n",
       "\t<tr><th scope=row>19</th><td>13-29-7F-JMWAC2_E04</td><td>Homsap TRAV8-4*01 F            </td><td>Homsap TRAJ9*01 F </td><td>CAVLFSIHTGGFKTIF</td><td> 1</td><td>7F         </td><td>13-30-8F-JMWBC2_F04 </td><td>Homsap TRBV9*01 F                            </td><td>Homsap TRBJ2-5*01 F</td><td>Homsap TRBD1*01 F</td><td>CASSPQSGFVAETQYF                                 </td><td>1</td><td>8F      </td><td>1</td><td>7F 8F            </td></tr>\n",
       "</tbody>\n",
       "</table>\n"
      ],
      "text/latex": [
       "A data.frame: 17 × 15\n",
       "\\begin{tabular}{r|lllllllllllllll}\n",
       "  & Sequence\\_ID\\_Alpha & Alpha\\_V & Alpha\\_J & Alpha\\_CDR3 & Frequency\\_of\\_A & Same\\_A\\_Wells & Sequence\\_ID\\_Beta & Beta\\_V & Beta\\_J & Beta\\_D & Beta\\_CDR3 & Frequency\\_of\\_B & Same\\_B\\_Wells & Frequency\\_of\\_Pair & Same\\_Pair\\_Wells\\\\\n",
       "  & <chr> & <chr> & <chr> & <chr> & <int> & <fct> & <chr> & <chr> & <chr> & <chr> & <chr> & <int> & <fct> & <int> & <fct>\\\\\n",
       "\\hline\n",
       "\t6 & 13-05-1E-JMWAC2\\_E01 & Homsap TRAV12-3*01 F            & Homsap TRAJ30*01 F & CAMNGDDKIIF      &  4 & 1E,1F,3D,5G & 13-06-2E-JMWBC2\\_F01  & Homsap TRBV7-2*04 (F)                         & Homsap TRBJ1-2*01 F & Homsap TRBD1*01 F & CASSLPDRINYGYTF                                   & 3 & 2E,6G,4D & 3 & 1E,5G,3D 2E,6G,4D\\\\\n",
       "\t1 & NA                  & NA                              & NA                 & NA               & NA & NA          & 13-37-12C-JMWBC2\\_E05 & Homsap TRBV10-3*01 F                          & Homsap TRBJ2-7*01 F & Homsap TRBD2*01 F & CAISEIIAHFPYEQYF                                  & 1 & 12C      & 1 & NA 12C           \\\\\n",
       "\t2 & 13-27-7E-JMWAC2\\_C04 & Homsap TRAV1-2*01 F             & Homsap TRAJ30*01 F & CAV*\\#NRDDKIIF    &  1 & 7E          & 13-28-8E-JMWBC2\\_D04  & Homsap TRBV7-2*01 F, or Homsap TRBV7-2*04 (F) & Homsap TRBJ1-2*01 F & Homsap TRBD1*01 F & CASSLPDRINYGYTF                                   & 1 & 8E       & 1 & 7E 8E            \\\\\n",
       "\t3 & 13-17-5B-JMWAC2\\_A03 & Homsap TRAV12-1*01 F            & Homsap TRAJ4*01 F  & CVVNWFSGGYNKLIF  &  2 & 5B,3F       & 13-18-6B-JMWBC2\\_B03  & Homsap TRBV11-2*01 F                          & Homsap TRBJ1-1*01 F & Homsap TRBD1*01 F & CASSLPTGGALNTEAFF                                 & 2 & 6B,8A    & 1 & 5B 6B            \\\\\n",
       "\t4 & 13-15-3F-JMWAC2\\_G02 & Homsap TRAV12-1*01 F            & Homsap TRAJ4*01 F  & CVVNWFSGGYNKLIF  &  2 & 5B,3F       & 13-16-4F-JMWBC2\\_H02  & Homsap TRBV28*01 F                            & Homsap TRBJ1-2*01 F & Homsap TRBD2*01 F & CASSTTRDWPLDGYTF                                  & 1 & 4F       & 1 & 3F 4F            \\\\\n",
       "\t5 & 13-07-1F-JMWAC2\\_G01 & Homsap TRAV12-3*01 F            & Homsap TRAJ30*01 F & CAMNGDDKIIF      &  4 & 1E,1F,3D,5G & 13-08-2F-JMWBC2\\_H01  & Homsap TRBV7-2*01 F, or Homsap TRBV7-2*04 (F) & Homsap TRBJ1-2*01 F & Homsap TRBD1*01 F & CASSLPDRIKYGYTF                                   & 1 & 2F       & 1 & 1F 2F            \\\\\n",
       "\t9 & 13-21-5D-JMWAC2\\_E03 & Homsap TRAV19*01 F              & Homsap TRAJ54*01 F & CALSLIYQGAQKLVF  &  1 & 5D          & 13-22-6D-JMWBC2\\_F03  & Homsap TRBV5-4*04 (F) (see comment)           & Homsap TRBJ2-5*01 F & NA                & MCQQVR*REALF (see V-DOMAIN Functionality comment) & 1 & 6D       & 1 & 5D 6D            \\\\\n",
       "\t10 & 13-11-3B-JMWAC2\\_C02 & Homsap TRAV2*01 F               & Homsap TRAJ26*01 F & CAVGPNYGQNFVF    &  1 & 3B          & 13-12-4B-JMWBC2\\_D02  & Homsap TRBV4-3*01 F                           & Homsap TRBJ2-3*01 F & Homsap TRBD1*01 F & CASSQVPTGGPDTQYF                                  & 1 & 4B       & 1 & 3B 4B            \\\\\n",
       "\t11 & 13-25-7A-JMWAC2\\_A04 & Homsap TRAV27*01 F              & Homsap TRAJ20*01 F & CAGITNDYKLSF     &  1 & 7A          & 13-26-8A-JMWBC2\\_B04  & Homsap TRBV11-2*01 F                          & Homsap TRBJ1-1*01 F & Homsap TRBD1*01 F & CASSLPTGGALNTEAFF                                 & 2 & 6B,8A    & 1 & 7A 8A            \\\\\n",
       "\t12 & 13-33-9B-JMWAC2\\_A05 & Homsap TRAV27*01 F              & Homsap TRAJ33*01 F & CAGSLDSNYQLIW    &  1 & 9B          & 13-34-10B-JMWBC2\\_B05 & NA                                            & NA                  & NA                & NA                                                & 1 & 10B      & 1 & 9B 10B           \\\\\n",
       "\t13 & 13-35-9F-JMWAC2\\_C05 & Homsap TRAV27*01 F              & Homsap TRAJ38*01 F & CAGP\\#NAGNNRKLIW  &  1 & 9F          & 13-36-10F-JMWBC2\\_D05 & Homsap TRBV4-3*01 F                           & Homsap TRBJ1-2*01 F & Homsap TRBD1*01 F & CASSEGLAWTGSGYTF                                  & 1 & 10F      & 1 & 9F 10F           \\\\\n",
       "\t14 & 13-03-1D-JMWAC2\\_C01 & Homsap TRAV4*01 F               & Homsap TRAJ11*01 F & CLVGDEGYSTLTF    &  2 & 1A,1D       & 13-04-2D-JMWBC2\\_D01  & Homsap TRBV7-3*01 F                           & Homsap TRBJ1-1*01 F & Homsap TRBD1*01 F & CASSLTGQAFSTEAFF                                  & 1 & 2D       & 1 & 1D 2D            \\\\\n",
       "\t15 & 13-01-1A-JMWAC2\\_A01 & Homsap TRAV4*01 F               & Homsap TRAJ11*01 F & CLVGDEGYSTLTF    &  2 & 1A,1D       & 13-02-2A-JMWBC2\\_B01  & Homsap TRBV7-6*01 F (see comment)             & Homsap TRBJ2-3*01 F & Homsap TRBD1*01 F & CASSLAGTDTQYF                                     & 2 & 2A,6C    & 1 & 1A 2A            \\\\\n",
       "\t16 & 13-31-7G-JMWAC2\\_G04 & Homsap TRAV4*01 F (see comment) & Homsap TRAJ21*01 F & CXPGEDTNFNKFFF   &  1 & 7G          & 13-32-8G-JMWBC2\\_H04  & Homsap TRBV2*01 F                             & Homsap TRBJ2-5*01 F & Homsap TRBD1*01 F & CASRQGETQYF                                       & 1 & 8G       & 1 & 7G 8G            \\\\\n",
       "\t17 & 13-19-5C-JMWAC2\\_C03 & Homsap TRAV41*01 F              & Homsap TRAJ35*01 F & CAVRPV\\#GNVLHC    &  1 & 5C          & 13-20-6C-JMWBC2\\_D03  & Homsap TRBV7-6*01 F (see comment)             & Homsap TRBJ2-3*01 F & Homsap TRBD1*01 F & CASSLAGTDTQYF                                     & 2 & 2A,6C    & 1 & 5C 6C            \\\\\n",
       "\t18 & 13-09-1H-JMWAC2\\_A02 & Homsap TRAV41*01 F              & Homsap TRAJ40*01 F & CAVVTSGTYKYIF    &  1 & 1H          & 13-10-2H-JMWBC2\\_B02  & Homsap TRBV12-3*01 F                          & Homsap TRBJ2-1*01 F & Homsap TRBD2*01 F & CASSLGGLTYNEQFF                                   & 1 & 2H       & 1 & 1H 2H            \\\\\n",
       "\t19 & 13-29-7F-JMWAC2\\_E04 & Homsap TRAV8-4*01 F             & Homsap TRAJ9*01 F  & CAVLFSIHTGGFKTIF &  1 & 7F          & 13-30-8F-JMWBC2\\_F04  & Homsap TRBV9*01 F                             & Homsap TRBJ2-5*01 F & Homsap TRBD1*01 F & CASSPQSGFVAETQYF                                  & 1 & 8F       & 1 & 7F 8F            \\\\\n",
       "\\end{tabular}\n"
      ],
      "text/markdown": [
       "\n",
       "A data.frame: 17 × 15\n",
       "\n",
       "| <!--/--> | Sequence_ID_Alpha &lt;chr&gt; | Alpha_V &lt;chr&gt; | Alpha_J &lt;chr&gt; | Alpha_CDR3 &lt;chr&gt; | Frequency_of_A &lt;int&gt; | Same_A_Wells &lt;fct&gt; | Sequence_ID_Beta &lt;chr&gt; | Beta_V &lt;chr&gt; | Beta_J &lt;chr&gt; | Beta_D &lt;chr&gt; | Beta_CDR3 &lt;chr&gt; | Frequency_of_B &lt;int&gt; | Same_B_Wells &lt;fct&gt; | Frequency_of_Pair &lt;int&gt; | Same_Pair_Wells &lt;fct&gt; |\n",
       "|---|---|---|---|---|---|---|---|---|---|---|---|---|---|---|---|\n",
       "| 6 | 13-05-1E-JMWAC2_E01 | Homsap TRAV12-3*01 F            | Homsap TRAJ30*01 F | CAMNGDDKIIF      |  4 | 1E,1F,3D,5G | 13-06-2E-JMWBC2_F01  | Homsap TRBV7-2*04 (F)                         | Homsap TRBJ1-2*01 F | Homsap TRBD1*01 F | CASSLPDRINYGYTF                                   | 3 | 2E,6G,4D | 3 | 1E,5G,3D 2E,6G,4D |\n",
       "| 1 | NA                  | NA                              | NA                 | NA               | NA | NA          | 13-37-12C-JMWBC2_E05 | Homsap TRBV10-3*01 F                          | Homsap TRBJ2-7*01 F | Homsap TRBD2*01 F | CAISEIIAHFPYEQYF                                  | 1 | 12C      | 1 | NA 12C            |\n",
       "| 2 | 13-27-7E-JMWAC2_C04 | Homsap TRAV1-2*01 F             | Homsap TRAJ30*01 F | CAV*#NRDDKIIF    |  1 | 7E          | 13-28-8E-JMWBC2_D04  | Homsap TRBV7-2*01 F, or Homsap TRBV7-2*04 (F) | Homsap TRBJ1-2*01 F | Homsap TRBD1*01 F | CASSLPDRINYGYTF                                   | 1 | 8E       | 1 | 7E 8E             |\n",
       "| 3 | 13-17-5B-JMWAC2_A03 | Homsap TRAV12-1*01 F            | Homsap TRAJ4*01 F  | CVVNWFSGGYNKLIF  |  2 | 5B,3F       | 13-18-6B-JMWBC2_B03  | Homsap TRBV11-2*01 F                          | Homsap TRBJ1-1*01 F | Homsap TRBD1*01 F | CASSLPTGGALNTEAFF                                 | 2 | 6B,8A    | 1 | 5B 6B             |\n",
       "| 4 | 13-15-3F-JMWAC2_G02 | Homsap TRAV12-1*01 F            | Homsap TRAJ4*01 F  | CVVNWFSGGYNKLIF  |  2 | 5B,3F       | 13-16-4F-JMWBC2_H02  | Homsap TRBV28*01 F                            | Homsap TRBJ1-2*01 F | Homsap TRBD2*01 F | CASSTTRDWPLDGYTF                                  | 1 | 4F       | 1 | 3F 4F             |\n",
       "| 5 | 13-07-1F-JMWAC2_G01 | Homsap TRAV12-3*01 F            | Homsap TRAJ30*01 F | CAMNGDDKIIF      |  4 | 1E,1F,3D,5G | 13-08-2F-JMWBC2_H01  | Homsap TRBV7-2*01 F, or Homsap TRBV7-2*04 (F) | Homsap TRBJ1-2*01 F | Homsap TRBD1*01 F | CASSLPDRIKYGYTF                                   | 1 | 2F       | 1 | 1F 2F             |\n",
       "| 9 | 13-21-5D-JMWAC2_E03 | Homsap TRAV19*01 F              | Homsap TRAJ54*01 F | CALSLIYQGAQKLVF  |  1 | 5D          | 13-22-6D-JMWBC2_F03  | Homsap TRBV5-4*04 (F) (see comment)           | Homsap TRBJ2-5*01 F | NA                | MCQQVR*REALF (see V-DOMAIN Functionality comment) | 1 | 6D       | 1 | 5D 6D             |\n",
       "| 10 | 13-11-3B-JMWAC2_C02 | Homsap TRAV2*01 F               | Homsap TRAJ26*01 F | CAVGPNYGQNFVF    |  1 | 3B          | 13-12-4B-JMWBC2_D02  | Homsap TRBV4-3*01 F                           | Homsap TRBJ2-3*01 F | Homsap TRBD1*01 F | CASSQVPTGGPDTQYF                                  | 1 | 4B       | 1 | 3B 4B             |\n",
       "| 11 | 13-25-7A-JMWAC2_A04 | Homsap TRAV27*01 F              | Homsap TRAJ20*01 F | CAGITNDYKLSF     |  1 | 7A          | 13-26-8A-JMWBC2_B04  | Homsap TRBV11-2*01 F                          | Homsap TRBJ1-1*01 F | Homsap TRBD1*01 F | CASSLPTGGALNTEAFF                                 | 2 | 6B,8A    | 1 | 7A 8A             |\n",
       "| 12 | 13-33-9B-JMWAC2_A05 | Homsap TRAV27*01 F              | Homsap TRAJ33*01 F | CAGSLDSNYQLIW    |  1 | 9B          | 13-34-10B-JMWBC2_B05 | NA                                            | NA                  | NA                | NA                                                | 1 | 10B      | 1 | 9B 10B            |\n",
       "| 13 | 13-35-9F-JMWAC2_C05 | Homsap TRAV27*01 F              | Homsap TRAJ38*01 F | CAGP#NAGNNRKLIW  |  1 | 9F          | 13-36-10F-JMWBC2_D05 | Homsap TRBV4-3*01 F                           | Homsap TRBJ1-2*01 F | Homsap TRBD1*01 F | CASSEGLAWTGSGYTF                                  | 1 | 10F      | 1 | 9F 10F            |\n",
       "| 14 | 13-03-1D-JMWAC2_C01 | Homsap TRAV4*01 F               | Homsap TRAJ11*01 F | CLVGDEGYSTLTF    |  2 | 1A,1D       | 13-04-2D-JMWBC2_D01  | Homsap TRBV7-3*01 F                           | Homsap TRBJ1-1*01 F | Homsap TRBD1*01 F | CASSLTGQAFSTEAFF                                  | 1 | 2D       | 1 | 1D 2D             |\n",
       "| 15 | 13-01-1A-JMWAC2_A01 | Homsap TRAV4*01 F               | Homsap TRAJ11*01 F | CLVGDEGYSTLTF    |  2 | 1A,1D       | 13-02-2A-JMWBC2_B01  | Homsap TRBV7-6*01 F (see comment)             | Homsap TRBJ2-3*01 F | Homsap TRBD1*01 F | CASSLAGTDTQYF                                     | 2 | 2A,6C    | 1 | 1A 2A             |\n",
       "| 16 | 13-31-7G-JMWAC2_G04 | Homsap TRAV4*01 F (see comment) | Homsap TRAJ21*01 F | CXPGEDTNFNKFFF   |  1 | 7G          | 13-32-8G-JMWBC2_H04  | Homsap TRBV2*01 F                             | Homsap TRBJ2-5*01 F | Homsap TRBD1*01 F | CASRQGETQYF                                       | 1 | 8G       | 1 | 7G 8G             |\n",
       "| 17 | 13-19-5C-JMWAC2_C03 | Homsap TRAV41*01 F              | Homsap TRAJ35*01 F | CAVRPV#GNVLHC    |  1 | 5C          | 13-20-6C-JMWBC2_D03  | Homsap TRBV7-6*01 F (see comment)             | Homsap TRBJ2-3*01 F | Homsap TRBD1*01 F | CASSLAGTDTQYF                                     | 2 | 2A,6C    | 1 | 5C 6C             |\n",
       "| 18 | 13-09-1H-JMWAC2_A02 | Homsap TRAV41*01 F              | Homsap TRAJ40*01 F | CAVVTSGTYKYIF    |  1 | 1H          | 13-10-2H-JMWBC2_B02  | Homsap TRBV12-3*01 F                          | Homsap TRBJ2-1*01 F | Homsap TRBD2*01 F | CASSLGGLTYNEQFF                                   | 1 | 2H       | 1 | 1H 2H             |\n",
       "| 19 | 13-29-7F-JMWAC2_E04 | Homsap TRAV8-4*01 F             | Homsap TRAJ9*01 F  | CAVLFSIHTGGFKTIF |  1 | 7F          | 13-30-8F-JMWBC2_F04  | Homsap TRBV9*01 F                             | Homsap TRBJ2-5*01 F | Homsap TRBD1*01 F | CASSPQSGFVAETQYF                                  | 1 | 8F       | 1 | 7F 8F             |\n",
       "\n"
      ],
      "text/plain": [
       "   Sequence_ID_Alpha   Alpha_V                         Alpha_J           \n",
       "6  13-05-1E-JMWAC2_E01 Homsap TRAV12-3*01 F            Homsap TRAJ30*01 F\n",
       "1  NA                  NA                              NA                \n",
       "2  13-27-7E-JMWAC2_C04 Homsap TRAV1-2*01 F             Homsap TRAJ30*01 F\n",
       "3  13-17-5B-JMWAC2_A03 Homsap TRAV12-1*01 F            Homsap TRAJ4*01 F \n",
       "4  13-15-3F-JMWAC2_G02 Homsap TRAV12-1*01 F            Homsap TRAJ4*01 F \n",
       "5  13-07-1F-JMWAC2_G01 Homsap TRAV12-3*01 F            Homsap TRAJ30*01 F\n",
       "9  13-21-5D-JMWAC2_E03 Homsap TRAV19*01 F              Homsap TRAJ54*01 F\n",
       "10 13-11-3B-JMWAC2_C02 Homsap TRAV2*01 F               Homsap TRAJ26*01 F\n",
       "11 13-25-7A-JMWAC2_A04 Homsap TRAV27*01 F              Homsap TRAJ20*01 F\n",
       "12 13-33-9B-JMWAC2_A05 Homsap TRAV27*01 F              Homsap TRAJ33*01 F\n",
       "13 13-35-9F-JMWAC2_C05 Homsap TRAV27*01 F              Homsap TRAJ38*01 F\n",
       "14 13-03-1D-JMWAC2_C01 Homsap TRAV4*01 F               Homsap TRAJ11*01 F\n",
       "15 13-01-1A-JMWAC2_A01 Homsap TRAV4*01 F               Homsap TRAJ11*01 F\n",
       "16 13-31-7G-JMWAC2_G04 Homsap TRAV4*01 F (see comment) Homsap TRAJ21*01 F\n",
       "17 13-19-5C-JMWAC2_C03 Homsap TRAV41*01 F              Homsap TRAJ35*01 F\n",
       "18 13-09-1H-JMWAC2_A02 Homsap TRAV41*01 F              Homsap TRAJ40*01 F\n",
       "19 13-29-7F-JMWAC2_E04 Homsap TRAV8-4*01 F             Homsap TRAJ9*01 F \n",
       "   Alpha_CDR3       Frequency_of_A Same_A_Wells Sequence_ID_Beta    \n",
       "6  CAMNGDDKIIF       4             1E,1F,3D,5G  13-06-2E-JMWBC2_F01 \n",
       "1  NA               NA             NA           13-37-12C-JMWBC2_E05\n",
       "2  CAV*#NRDDKIIF     1             7E           13-28-8E-JMWBC2_D04 \n",
       "3  CVVNWFSGGYNKLIF   2             5B,3F        13-18-6B-JMWBC2_B03 \n",
       "4  CVVNWFSGGYNKLIF   2             5B,3F        13-16-4F-JMWBC2_H02 \n",
       "5  CAMNGDDKIIF       4             1E,1F,3D,5G  13-08-2F-JMWBC2_H01 \n",
       "9  CALSLIYQGAQKLVF   1             5D           13-22-6D-JMWBC2_F03 \n",
       "10 CAVGPNYGQNFVF     1             3B           13-12-4B-JMWBC2_D02 \n",
       "11 CAGITNDYKLSF      1             7A           13-26-8A-JMWBC2_B04 \n",
       "12 CAGSLDSNYQLIW     1             9B           13-34-10B-JMWBC2_B05\n",
       "13 CAGP#NAGNNRKLIW   1             9F           13-36-10F-JMWBC2_D05\n",
       "14 CLVGDEGYSTLTF     2             1A,1D        13-04-2D-JMWBC2_D01 \n",
       "15 CLVGDEGYSTLTF     2             1A,1D        13-02-2A-JMWBC2_B01 \n",
       "16 CXPGEDTNFNKFFF    1             7G           13-32-8G-JMWBC2_H04 \n",
       "17 CAVRPV#GNVLHC     1             5C           13-20-6C-JMWBC2_D03 \n",
       "18 CAVVTSGTYKYIF     1             1H           13-10-2H-JMWBC2_B02 \n",
       "19 CAVLFSIHTGGFKTIF  1             7F           13-30-8F-JMWBC2_F04 \n",
       "   Beta_V                                        Beta_J             \n",
       "6  Homsap TRBV7-2*04 (F)                         Homsap TRBJ1-2*01 F\n",
       "1  Homsap TRBV10-3*01 F                          Homsap TRBJ2-7*01 F\n",
       "2  Homsap TRBV7-2*01 F, or Homsap TRBV7-2*04 (F) Homsap TRBJ1-2*01 F\n",
       "3  Homsap TRBV11-2*01 F                          Homsap TRBJ1-1*01 F\n",
       "4  Homsap TRBV28*01 F                            Homsap TRBJ1-2*01 F\n",
       "5  Homsap TRBV7-2*01 F, or Homsap TRBV7-2*04 (F) Homsap TRBJ1-2*01 F\n",
       "9  Homsap TRBV5-4*04 (F) (see comment)           Homsap TRBJ2-5*01 F\n",
       "10 Homsap TRBV4-3*01 F                           Homsap TRBJ2-3*01 F\n",
       "11 Homsap TRBV11-2*01 F                          Homsap TRBJ1-1*01 F\n",
       "12 NA                                            NA                 \n",
       "13 Homsap TRBV4-3*01 F                           Homsap TRBJ1-2*01 F\n",
       "14 Homsap TRBV7-3*01 F                           Homsap TRBJ1-1*01 F\n",
       "15 Homsap TRBV7-6*01 F (see comment)             Homsap TRBJ2-3*01 F\n",
       "16 Homsap TRBV2*01 F                             Homsap TRBJ2-5*01 F\n",
       "17 Homsap TRBV7-6*01 F (see comment)             Homsap TRBJ2-3*01 F\n",
       "18 Homsap TRBV12-3*01 F                          Homsap TRBJ2-1*01 F\n",
       "19 Homsap TRBV9*01 F                             Homsap TRBJ2-5*01 F\n",
       "   Beta_D            Beta_CDR3                                        \n",
       "6  Homsap TRBD1*01 F CASSLPDRINYGYTF                                  \n",
       "1  Homsap TRBD2*01 F CAISEIIAHFPYEQYF                                 \n",
       "2  Homsap TRBD1*01 F CASSLPDRINYGYTF                                  \n",
       "3  Homsap TRBD1*01 F CASSLPTGGALNTEAFF                                \n",
       "4  Homsap TRBD2*01 F CASSTTRDWPLDGYTF                                 \n",
       "5  Homsap TRBD1*01 F CASSLPDRIKYGYTF                                  \n",
       "9  NA                MCQQVR*REALF (see V-DOMAIN Functionality comment)\n",
       "10 Homsap TRBD1*01 F CASSQVPTGGPDTQYF                                 \n",
       "11 Homsap TRBD1*01 F CASSLPTGGALNTEAFF                                \n",
       "12 NA                NA                                               \n",
       "13 Homsap TRBD1*01 F CASSEGLAWTGSGYTF                                 \n",
       "14 Homsap TRBD1*01 F CASSLTGQAFSTEAFF                                 \n",
       "15 Homsap TRBD1*01 F CASSLAGTDTQYF                                    \n",
       "16 Homsap TRBD1*01 F CASRQGETQYF                                      \n",
       "17 Homsap TRBD1*01 F CASSLAGTDTQYF                                    \n",
       "18 Homsap TRBD2*01 F CASSLGGLTYNEQFF                                  \n",
       "19 Homsap TRBD1*01 F CASSPQSGFVAETQYF                                 \n",
       "   Frequency_of_B Same_B_Wells Frequency_of_Pair Same_Pair_Wells  \n",
       "6  3              2E,6G,4D     3                 1E,5G,3D 2E,6G,4D\n",
       "1  1              12C          1                 NA 12C           \n",
       "2  1              8E           1                 7E 8E            \n",
       "3  2              6B,8A        1                 5B 6B            \n",
       "4  1              4F           1                 3F 4F            \n",
       "5  1              2F           1                 1F 2F            \n",
       "9  1              6D           1                 5D 6D            \n",
       "10 1              4B           1                 3B 4B            \n",
       "11 2              6B,8A        1                 7A 8A            \n",
       "12 1              10B          1                 9B 10B           \n",
       "13 1              10F          1                 9F 10F           \n",
       "14 1              2D           1                 1D 2D            \n",
       "15 2              2A,6C        1                 1A 2A            \n",
       "16 1              8G           1                 7G 8G            \n",
       "17 2              2A,6C        1                 5C 6C            \n",
       "18 1              2H           1                 1H 2H            \n",
       "19 1              8F           1                 7F 8F            "
      ]
     },
     "metadata": {},
     "output_type": "display_data"
    }
   ],
   "source": [
    "final"
   ]
  },
  {
   "cell_type": "code",
   "execution_count": 33,
   "metadata": {},
   "outputs": [],
   "source": [
    "#write.table(final,file = outfile,row.names = F, quote = F, sep =\"\\t\")"
   ]
  }
 ],
 "metadata": {
  "kernelspec": {
   "display_name": "R",
   "language": "R",
   "name": "ir"
  },
  "language_info": {
   "codemirror_mode": "r",
   "file_extension": ".r",
   "mimetype": "text/x-r-source",
   "name": "R",
   "pygments_lexer": "r",
   "version": "3.6.1"
  }
 },
 "nbformat": 4,
 "nbformat_minor": 4
}
