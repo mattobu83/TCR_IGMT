{
 "cells": [
  {
   "cell_type": "code",
   "execution_count": null,
   "metadata": {},
   "outputs": [],
   "source": [
    "#specify full file path of IGMT output in first argument\n",
    "#specify full file name for output of script in second argument\n",
    "#specify the number of sequences in the fastq file in the third argument\n",
    "\n",
    "args<-commandArgs(TRUE)\n",
    "infile=args[1]\n",
    "outfile=args[2]\n",
    "nseq = args[3]"
   ]
  },
  {
   "cell_type": "code",
   "execution_count": null,
   "metadata": {},
   "outputs": [],
   "source": [
    "#load required packages\n",
    "library(data.table)"
   ]
  },
  {
   "cell_type": "code",
   "execution_count": null,
   "metadata": {},
   "outputs": [],
   "source": [
    "#read in output from IGMT\n",
    "test <- scan(infile, what = \"list\", sep = \"\\n\")\n",
    "\n",
    "#create empty list\n",
    "info <- list()"
   ]
  },
  {
   "cell_type": "code",
   "execution_count": null,
   "metadata": {},
   "outputs": [],
   "source": [
    "#seperate information for each sequence\n",
    "for (n in 1:nseq){\n",
    "  index1 <- grep(\"Sequence number\", test)[n]\n",
    "  index2 <- ifelse(is.na(grep(\"Sequence number\", test)[n+1]),length(test), grep(\"Sequence number\", test)[n+1])\n",
    "  info[[n]] <- test[index1:(index2-1)]\n",
    "}\n",
    "\n",
    "#seperate a chain and bchain info\n",
    "achain <- info[grep(\"JMWA\",info)]\n",
    "bchain <- info[grep(\"JMWB\",info)]\n",
    "\n",
    "#outputs percentage for v/d/j\n",
    "matchper <- function(chain){\n",
    "  identity <- ifelse(is.na(sapply(strsplit(chain,\";\"),\"[\",4)[1]),\"NA\",sapply(strsplit(chain,\";\"),\"[\",4))\n",
    "  percent <- ifelse(is.na(sapply(strsplit(chain,\";\"),\"[\",4)[1]),\"NA\",sapply(strsplit(identity,\"=\"),\"[\",2))\n",
    "  return(percent)\n",
    "}\n",
    "\n",
    "#Gets info for A chain, places into dataframe \n",
    "checkA <- function(infoA){\n",
    "  name <- sapply(strsplit(infoA[1],\":\"), \"[\", 2)\n",
    "  number <- sapply(strsplit(infoA[1],\"-\"), \"[\", 3)\n",
    "  v <- ifelse(is.na(grep(\"V-GENE and allele;Homsap TRA\",infoA)[1]),\"NA\",infoA[grep(\"V-GENE and allele;Homsap TRA\",infoA)])\n",
    "  j <- ifelse(is.na(grep(\"J-GENE and allele;Homsap TRA\",infoA)[1]),\"NA\",infoA[grep(\"J-GENE and allele;Homsap TRA\",infoA)])\n",
    "  cdr <- ifelse(is.na(grep(\"CDR-IMGT lengths\",infoA)[1]),\"NA\",infoA[grep(\"CDR-IMGT lengths\",infoA)])\n",
    "  res <- ifelse(is.na(grep(\"IMGT/V-QUEST results:\",infoA)[1]),\"NA\",infoA[(grep(\"IMGT/V-QUEST results:\",infoA))+1])\n",
    "  prod <- ifelse(is.na(sapply(strsplit(res,\" \"),\"[\",2)[1]),\"NA\",sapply(strsplit(res,\" \"),\"[\",2))\n",
    "  prod2 <- ifelse(prod == \"Productive\", \"Yes\", \"No\")\n",
    "  vchain <- ifelse(is.na(sapply(strsplit(v,\";\"),\"[\",2)[1]),\"NA\",sapply(strsplit(v,\";\"),\"[\",2))\n",
    "  jchain <- ifelse(is.na(sapply(strsplit(j,\";\"),\"[\",2)[1]),\"NA\",sapply(strsplit(j,\";\"),\"[\",2))\n",
    "  cdr2 <- ifelse(is.na(sapply(strsplit(cdr,\";\"),\"[\",4)[1]),\"NA\",sapply(strsplit(cdr,\";\"),\"[\",4))\n",
    "  percentv <- matchper(v)\n",
    "  percentj <- matchper(j)\n",
    "  df <- data.frame(nameA = name,numberA = number,vchain,percentv,jchain,percentj,cdr2,Productive = prod2)\n",
    "  return(df)\n",
    "}\n",
    "\n",
    "\n",
    "#Gets info for B chain, places into dataframe \n",
    "checkB <- function(infoB){\n",
    "  name <- sapply(strsplit(infoB[1],\":\"), \"[\", 2)\n",
    "  number <- sapply(strsplit(infoB[1],\"-\"), \"[\", 3)\n",
    "  v <- ifelse(is.na(grep(\"V-GENE and allele;Homsap TRB\",infoB)[1]),\"NA\",infoB[grep(\"V-GENE and allele;Homsap TRB\",infoB)])\n",
    "  j <- ifelse(is.na(grep(\"J-GENE and allele;Homsap TRB\",infoB)[1]),\"NA\",infoB[grep(\"J-GENE and allele;Homsap TRB\",infoB)])\n",
    "  d <- infoB[ifelse(is.na(grep(\"D-GENE and allele\",infoB)[1]),\"NA\",grep(\"D-GENE and allele\",infoB))]\n",
    "  cdr <- ifelse(is.na(grep(\"CDR-IMGT lengths\",infoB)[1]),\"NA\",infoB[grep(\"CDR-IMGT lengths\",infoB)])\n",
    "  res <- ifelse(is.na(grep(\"IMGT/V-QUEST results:\",infoB)[1]),\"NA\",infoB[(grep(\"IMGT/V-QUEST results:\",infoB))+1])\n",
    "  prod <- ifelse(is.na(sapply(strsplit(res,\" \"),\"[\",2)[1]),\"NA\",sapply(strsplit(res,\" \"),\"[\",2))\n",
    "  prod2 <- ifelse(prod == \"Productive\", \"Yes\", \"No\")\n",
    "  vchain <- ifelse(is.na(sapply(strsplit(v,\";\"),\"[\",2)[1]),\"NA\",sapply(strsplit(v,\";\"),\"[\",2))\n",
    "  jchain <- ifelse(is.na(sapply(strsplit(j,\";\"),\"[\",2)[1]),\"NA\",sapply(strsplit(j,\";\"),\"[\",2))\n",
    "  dchain <- ifelse(is.na(sapply(strsplit(d,\";\"),\"[\",2)[1]),\"NA\",sapply(strsplit(d,\";\"),\"[\",2))\n",
    "  cdr2 <- ifelse(is.na(sapply(strsplit(cdr,\";\"),\"[\",4)[1]),\"NA\",sapply(strsplit(cdr,\";\"),\"[\",4))\n",
    "  percentv <- matchper(v)\n",
    "  percentj <- matchper(j)\n",
    "  df <- data.frame(nameB = name,numberB = number,vchain,percentv,jchain,percentj,dchain,cdr2, Productive = prod2)\n",
    "  return(df)\n",
    "}"
   ]
  },
  {
   "cell_type": "code",
   "execution_count": null,
   "metadata": {},
   "outputs": [],
   "source": [
    "#applies functions above on all sequences in list \n",
    "test1 <- lapply(achain, checkA)\n",
    "\n",
    "test2 <- lapply(bchain, checkB)"
   ]
  },
  {
   "cell_type": "code",
   "execution_count": null,
   "metadata": {},
   "outputs": [],
   "source": [
    "#make dataframe from list of dataframes, orders numerically, then by letter\n",
    "dfa <- rbindlist(test1)\n",
    "dfa <- dfa[order(as.numeric(gsub(\"([0-9]+)([A-Z]+)\", \"\\\\1\", dfa$number)),gsub(\"([0-9]+)([A-Z]+)\", \"\\\\2\", dfa$number))]\n",
    "\n",
    "dfb <- rbindlist(test2)\n",
    "dfb <- dfb[order(as.numeric(gsub(\"([0-9]+)([A-Z]+)\", \"\\\\1\", dfb$number)),gsub(\"([0-9]+)([A-Z]+)\", \"\\\\2\", dfb$number))]"
   ]
  },
  {
   "cell_type": "code",
   "execution_count": null,
   "metadata": {},
   "outputs": [],
   "source": [
    "#match A and B \n",
    "final <-cbind(dfa,dfb)"
   ]
  },
  {
   "cell_type": "code",
   "execution_count": null,
   "metadata": {},
   "outputs": [],
   "source": [
    "#write output\n",
    "write.table(final, file = outfile, sep = \"\\t\", row.names = F, quote = F)"
   ]
  }
 ],
 "metadata": {
  "kernelspec": {
   "display_name": "R",
   "language": "R",
   "name": "ir"
  },
  "language_info": {
   "codemirror_mode": "r",
   "file_extension": ".r",
   "mimetype": "text/x-r-source",
   "name": "R",
   "pygments_lexer": "r",
   "version": "3.6.1"
  }
 },
 "nbformat": 4,
 "nbformat_minor": 4
}
